{
 "cells": [
  {
   "cell_type": "code",
   "execution_count": null,
   "id": "807f09c3",
   "metadata": {},
   "outputs": [],
   "source": [
    "\n",
    "# Paste this workflow code here to have it as notebook\n"
   ]
  }
 ],
 "metadata": {},
 "nbformat": 4,
 "nbformat_minor": 5
}
