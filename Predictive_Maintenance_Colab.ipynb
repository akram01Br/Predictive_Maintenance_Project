{
 "cells": [
  {
   "cell_type": "code",
   "execution_count": null,
   "id": "69f12671",
   "metadata": {},
   "outputs": [],
   "source": [
    "\n",
    "# Paste all above code here\n"
   ]
  }
 ],
 "metadata": {},
 "nbformat": 4,
 "nbformat_minor": 5
}
